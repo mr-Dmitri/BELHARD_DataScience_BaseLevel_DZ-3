{
 "cells": [
  {
   "cell_type": "code",
   "id": "initial_id",
   "metadata": {
    "collapsed": true,
    "ExecuteTime": {
     "end_time": "2025-05-20T21:09:23.567117Z",
     "start_time": "2025-05-20T21:09:13.687028Z"
    }
   },
   "source": [
    "import os\n",
    "import seaborn as sns\n",
    "import matplotlib.pyplot as plt\n",
    "\n",
    "import pandas as pd\n",
    "from kaggle.api.kaggle_api_extended import KaggleApi\n",
    "from sqlalchemy.orm import declarative_base, sessionmaker\n",
    "from sqlalchemy import Column, Integer, String, Date, Float, create_engine, inspect, text"
   ],
   "outputs": [],
   "execution_count": 591
  },
  {
   "metadata": {
    "ExecuteTime": {
     "end_time": "2025-05-20T21:09:23.598318Z",
     "start_time": "2025-05-20T21:09:23.584181Z"
    }
   },
   "cell_type": "code",
   "source": [
    "root_dir = os.getcwd()\n",
    "db_dir = 'database'\n",
    "db_name = 'dataset.db'\n",
    "db_path = os.path.join(root_dir, db_dir, db_name)\n",
    "db_url = f'sqlite:///{db_path}'\n",
    "\n",
    "kaggle_data_set = 'eduardolicea/healthcare-dataset'\n",
    "\n",
    "dataset_dir = 'dataset'\n",
    "dataset_name = 'modified_healthcare_dataset.csv'\n",
    "dataset_path = os.path.join(root_dir, dataset_dir, dataset_name)\n",
    "\n",
    "separator = f\"\\n{'-'*100}\\n\""
   ],
   "id": "c65d789091afb103",
   "outputs": [],
   "execution_count": 592
  },
  {
   "metadata": {
    "ExecuteTime": {
     "end_time": "2025-05-20T21:09:23.629883Z",
     "start_time": "2025-05-20T21:09:23.615391Z"
    }
   },
   "cell_type": "code",
   "source": [
    "Base = declarative_base()\n",
    "\n",
    "class Gender(Base):\n",
    "    __tablename__ = 'genders'\n",
    "    id = Column(Integer, primary_key=True, autoincrement=True)\n",
    "    Gender = Column(String)\n",
    "\n",
    "class BloodType(Base):\n",
    "    __tablename__ = 'blood_types'\n",
    "    id = Column(Integer, primary_key=True, autoincrement=True)\n",
    "    BloodType = Column(String)\n",
    "\n",
    "class MedicalCondition(Base):\n",
    "    __tablename__ = 'medical_conditions'\n",
    "    id = Column(Integer, primary_key=True, autoincrement=True)\n",
    "    MedicalCondition = Column(String)\n",
    "\n",
    "class Doctor(Base):\n",
    "    __tablename__ = 'doctors'\n",
    "    id = Column(Integer, primary_key=True, autoincrement=True)\n",
    "    Doctor = Column(String, unique=True)\n",
    "\n",
    "class Hospital(Base):\n",
    "    __tablename__ = 'hospitals'\n",
    "    id = Column(Integer, primary_key=True, autoincrement=True)\n",
    "    Hospital = Column(String)\n",
    "\n",
    "class InsuranceProvider(Base):\n",
    "    __tablename__ = 'insurance_providers'\n",
    "    id = Column(Integer, primary_key=True, autoincrement=True)\n",
    "    InsuranceProvider = Column(String)\n",
    "\n",
    "class AdmissionType(Base):\n",
    "    __tablename__ = 'admission_types'\n",
    "    id = Column(Integer, primary_key=True, autoincrement=True)\n",
    "    AdmissionType = Column(String)\n",
    "\n",
    "class Medication(Base):\n",
    "    __tablename__ = 'medications'\n",
    "    id = Column(Integer, primary_key=True, autoincrement=True)\n",
    "    Medication = Column(String)\n",
    "\n",
    "class TestResults(Base):\n",
    "    __tablename__ = 'test_results'\n",
    "    id = Column(Integer, primary_key=True, autoincrement=True)\n",
    "    TestResults = Column(String)\n",
    "\n",
    "\n",
    "class Patient(Base):\n",
    "    __tablename__ = 'patients'\n",
    "    id = Column(Integer, primary_key=True)\n",
    "    Name = Column(String)\n",
    "    Age = Column(Integer)\n",
    "    DateOfAdmission = Column(Date)\n",
    "    BillingAmount = Column(Float)\n",
    "    RoomNumber = Column(Integer)\n",
    "    DischargeDate = Column(Date)\n",
    "    LengthOfStay = Column(Integer)\n",
    "\n",
    "class DataSet(Base):\n",
    "    __tablename__ = 'dataset'\n",
    "    id = Column(Integer, primary_key=True, autoincrement=True)\n",
    "    Name = Column(String)\n",
    "    Age = Column(Integer)\n",
    "    Gender = Column(String)\n",
    "    BloodType = Column(String)\n",
    "    MedicalCondition = Column(String)\n",
    "    DateOfAdmission = Column(Date)\n",
    "    Doctor = Column(String)\n",
    "    Hospital = Column(String)\n",
    "    InsuranceProvider = Column(String)\n",
    "    BillingAmount = Column(Float)\n",
    "    RoomNumber = Column(Integer)\n",
    "    AdmissionType = Column(String)\n",
    "    DischargeDate = Column(Date)\n",
    "    Medication = Column(String)\n",
    "    TestResults = Column(String)\n",
    "    LengthOfStay = Column(Integer)\n"
   ],
   "id": "b69bca4f5f127d1c",
   "outputs": [],
   "execution_count": 593
  },
  {
   "metadata": {
    "ExecuteTime": {
     "end_time": "2025-05-20T21:09:23.661371Z",
     "start_time": "2025-05-20T21:09:23.647012Z"
    }
   },
   "cell_type": "code",
   "source": [
    "\n",
    "class Visualization:\n",
    "    def __init__(self, data_frame):\n",
    "        self.df = data_frame\n",
    "        self.def_size = (8,5)\n",
    "\n",
    "    def line_plot(self, **qargs) -> None:\n",
    "        \"\"\"\n",
    "        Линейный график\n",
    "        Входные переменные данных; должны быть числовыми.\n",
    "        Можно передавать данные напрямую или ссылаться на столбцы в данных.\n",
    "\n",
    "        :param x: Входная переменная данных.\n",
    "        :param y: Входная переменная данных.\n",
    "        :param title: Название\n",
    "        :param xlabel: Подпись оси X.\n",
    "        :param ylabel: Подпись оси Y.\n",
    "        \"\"\"\n",
    "        plt.figure(figsize=qargs.get('figsize', self.def_size))\n",
    "        sns.lineplot(x=qargs.get('x'), y=qargs.get('y'))\n",
    "        plt.title(qargs.get('title',''))\n",
    "        plt.xlabel(qargs.get('xlabel',''))\n",
    "        plt.ylabel(qargs.get('ylabel',''))\n",
    "        plt.show()\n",
    "\n",
    "    def count_plot(self, **qargs):\n",
    "        \"\"\"\n",
    "        Столбчатая диаграмма\n",
    "\n",
    "        :param qargs:\n",
    "        :return:\n",
    "        \"\"\"\n",
    "        plt.figure(figsize=qargs.get('figsize',self.def_size))\n",
    "\n",
    "        sns.countplot(data=self.df,\n",
    "                      x=qargs.get('x'),\n",
    "                      palette=qargs.get('palette', 'colorblind'),\n",
    "                      hue=self.df[qargs.get('hue')] if 'hue' in qargs else None\n",
    "        )\n",
    "        plt.title(qargs.get('title',''))\n",
    "        plt.xlabel(qargs.get('xlabel',''))\n",
    "        plt.ylabel(qargs.get('ylabel',''))\n",
    "        plt.legend (qargs.get('legend',[]))\n",
    "        plt.show()\n",
    "\n",
    "\n",
    "    def hist_plot(self, **qargs):\n",
    "        \"\"\"\n",
    "        Гистограмма\n",
    "        :param qargs:\n",
    "        :return:\n",
    "        \"\"\"\n",
    "        plt.figure(figsize=qargs.get('figsize', self.def_size))\n",
    "\n",
    "        sns.histplot(data=self.df,\n",
    "                     x=qargs.get('x'),\n",
    "                     y=qargs.get('y'),\n",
    "                     kde=qargs.get('kde', False),\n",
    "                     bins=qargs.get('bins',  'auto'),\n",
    "                     palette=qargs.get('palette'),\n",
    "                     hue=self.df[qargs.get('hue')] if 'hue' in qargs else None\n",
    "        )\n",
    "        plt.title(qargs.get('title',''))\n",
    "        plt.xlabel(qargs.get('xlabel',''))\n",
    "        plt.ylabel(qargs.get('ylabel',''))\n",
    "        plt.legend (qargs.get('legend',[]))\n",
    "        plt.show()\n",
    "\n",
    "\n",
    "    def bar_plot(self, **qargs):\n",
    "        plt.figure(figsize=qargs.get('figsize', self.def_size))\n",
    "\n",
    "\n",
    "    def heatmap_plot(self, **qargs):\n",
    "        \"\"\"\n",
    "        Тепловая карта\n",
    "\n",
    "        :param qargs:\n",
    "        :return:\n",
    "        \"\"\"\n",
    "        fig, ax = plt.subplots(figsize=qargs.get('figsize', self.def_size))\n",
    "        sns.heatmap(\n",
    "                    data=qargs.get('data', None),\n",
    "                    annot=True,\n",
    "                    mask=qargs.get('mask', None),\n",
    "                    cmap=qargs.get('cmap', None),\n",
    "                    vmin=qargs.get('vmin', None),\n",
    "                    vmax=qargs.get('vmax', None),\n",
    "                    ax=ax,\n",
    "\n",
    "        )\n",
    "        plt.title(qargs.get('title',''))\n",
    "        plt.xlabel(qargs.get('xlabel',''))\n",
    "        plt.ylabel(qargs.get('ylabel',''))\n",
    "\n",
    "        plt.show()\n",
    "\n",
    "    def pie_plot(self, **qargs):\n",
    "        \"\"\"\n",
    "        Тепловая карта\n",
    "\n",
    "        :param qargs:\n",
    "        :return:\n",
    "        \"\"\"\n",
    "        data = qargs.get('data', None)\n",
    "        plt.figure(figsize=qargs.get('figsize', self.def_size))\n",
    "        plt.pie(data,\n",
    "\n",
    "                labels=qargs.get('labels', None),\n",
    "                autopct=qargs.get('autopct'))\n",
    "\n",
    "        plt.title(qargs.get('title',''))\n",
    "        plt.legend(qargs.get('legend',''))\n",
    "\n",
    "        plt.show()\n",
    "\n",
    "    def scatter_plot(self, **qargs):\n",
    "        \"\"\"\n",
    "        Диаграмма рассеивания\n",
    "\n",
    "        :param qargs:\n",
    "        :return:\n",
    "        \"\"\"\n",
    "        plt.figure(figsize=qargs.get('figsize', self.def_size))\n",
    "\n",
    "        sns.scatterplot(data=self.df,\n",
    "                     x=qargs.get('x'),\n",
    "                     y=qargs.get('y'),\n",
    "                     palette=qargs.get('palette'),\n",
    "                     hue=self.df[qargs.get('hue')] if 'hue' in qargs else None\n",
    "                     )\n",
    "        plt.title(qargs.get('title', ''))\n",
    "        plt.xlabel(qargs.get('xlabel', ''))\n",
    "        plt.ylabel(qargs.get('ylabel', ''))\n",
    "        plt.legend(qargs.get('legend', []))\n",
    "        plt.show()\n"
   ],
   "id": "3d8a119c47ebbe89",
   "outputs": [],
   "execution_count": 594
  },
  {
   "metadata": {
    "ExecuteTime": {
     "end_time": "2025-05-20T21:09:23.693481Z",
     "start_time": "2025-05-20T21:09:23.678375Z"
    }
   },
   "cell_type": "code",
   "source": [
    "def load_data_csv(file_path):\n",
    "    \"\"\"\n",
    "    Загрузка данных из CSV файла.\n",
    "    :param file_path: Путь к CSV файлу.\n",
    "    :return: DataFrame с загруженными данными.\n",
    "    \"\"\"\n",
    "    try:\n",
    "        return pd.read_csv(file_path)\n",
    "    except Exception as e:\n",
    "        raise Exception(e)\n"
   ],
   "id": "6a22848aee4f0eb2",
   "outputs": [],
   "execution_count": 595
  },
  {
   "metadata": {
    "ExecuteTime": {
     "end_time": "2025-05-20T21:09:23.724390Z",
     "start_time": "2025-05-20T21:09:23.710221Z"
    }
   },
   "cell_type": "code",
   "source": [
    "def load_kaggle_data_set(dataset):\n",
    "    \"\"\"\n",
    "    Загрузка датасета из kaggle.\n",
    "\n",
    "    Важно: Необходимо предварительно получить API Token.\n",
    "    Переместите файл kaggle.json в папку ~/.kaggle/ (для Linux и macOS)\n",
    "    или в C:/Users/<Ваше_имя_пользователя>/.kaggle/ (для Windows).\n",
    "    Если папка .kaggle не существует, создайте ее.\n",
    "    :param dataset:\n",
    "    :return:\n",
    "    \"\"\"\n",
    "\n",
    "    api = KaggleApi()\n",
    "    api.authenticate()\n",
    "    api.dataset_download_files(dataset=dataset,\n",
    "                               path='./dataset',\n",
    "                               force=True,\n",
    "                               unzip=True)              # Загрузка и распаковка"
   ],
   "id": "bcfda1e03dc515f8",
   "outputs": [],
   "execution_count": 596
  },
  {
   "metadata": {
    "ExecuteTime": {
     "end_time": "2025-05-20T21:09:23.755606Z",
     "start_time": "2025-05-20T21:09:23.740806Z"
    }
   },
   "cell_type": "code",
   "source": [
    "engine = create_engine(db_url, echo=False)\n",
    "Session = sessionmaker(bind=engine)"
   ],
   "id": "5e26a5d68a70d24b",
   "outputs": [],
   "execution_count": 597
  },
  {
   "metadata": {
    "ExecuteTime": {
     "end_time": "2025-05-20T21:09:23.786508Z",
     "start_time": "2025-05-20T21:09:23.772440Z"
    }
   },
   "cell_type": "code",
   "source": [
    "def db_cerate():\n",
    "    try:\n",
    "        with Session()  as session:\n",
    "            Base.metadata.create_all(engine)                # Создать базу данных (если она еще не существует)\n",
    "            session.commit()\n",
    "    except Exception as e:\n",
    "        raise (f'Ошибка создания базы данных: {e}')"
   ],
   "id": "27c23d28e6f1934b",
   "outputs": [],
   "execution_count": 598
  },
  {
   "metadata": {
    "ExecuteTime": {
     "end_time": "2025-05-20T21:09:23.818061Z",
     "start_time": "2025-05-20T21:09:23.802573Z"
    }
   },
   "cell_type": "code",
   "source": [
    "def add_all_from_dataset_to_table(df: pd.DataFrame,\n",
    "                                  table_name : str,\n",
    "                                  unique_columns : list = None):\n",
    "    with Session() as session:\n",
    "        truncate_table = text(f'DELETE FROM {table_name}')\n",
    "        session.execute(truncate_table)\n",
    "        session.commit()\n",
    "\n",
    "    inspector = inspect(engine)\n",
    "\n",
    "    # Получить список столбцов из таблицы 'patients', исключая id, т.к. он автоинкриментный в таблице\n",
    "    columns = [col['name'] for col in inspector.get_columns(table_name) if col['name']  != 'id']\n",
    "\n",
    "    # Если передан лист имен столбцов в которых значения д.б. уникальными\n",
    "    if unique_columns:\n",
    "        # Фильтр DataFrame, оставляя только те столбцы, которые есть в таблице, и дополнительный фильтр по уникальным\n",
    "        df_filtered = df[columns].drop_duplicates(unique_columns)\n",
    "    else:\n",
    "        # Фильтр DataFrame, оставляя только те столбцы, которые есть в таблице\n",
    "        df_filtered = df[columns]\n",
    "    # Запись DataFrame в таблицу\n",
    "    df_filtered.to_sql(table_name, con=engine, if_exists='append', index=False)"
   ],
   "id": "cbfcaabc1d4a052a",
   "outputs": [],
   "execution_count": 599
  },
  {
   "metadata": {
    "ExecuteTime": {
     "end_time": "2025-05-20T21:09:23.849309Z",
     "start_time": "2025-05-20T21:09:23.834458Z"
    }
   },
   "cell_type": "code",
   "source": [
    "def fill_db_tabes(df: pd.DataFrame):\n",
    "    add_all_from_dataset_to_table(df, 'genders', ['Gender'])\n",
    "    add_all_from_dataset_to_table(df, 'blood_types', ['BloodType'])\n",
    "    add_all_from_dataset_to_table(df, 'medical_conditions', ['MedicalCondition'])\n",
    "    add_all_from_dataset_to_table(df, 'doctors', ['Doctor'])\n",
    "    add_all_from_dataset_to_table(df, 'hospitals', ['Hospital'])\n",
    "    add_all_from_dataset_to_table(df, 'insurance_providers', ['InsuranceProvider'])\n",
    "    add_all_from_dataset_to_table(df, 'admission_types', ['AdmissionType'])\n",
    "    add_all_from_dataset_to_table(df, 'medications', ['Medication'])\n",
    "    add_all_from_dataset_to_table(df, 'test_results', ['TestResults'])\n",
    "    add_all_from_dataset_to_table(df, 'patients')\n",
    "    add_all_from_dataset_to_table(df, 'dataset')"
   ],
   "id": "4e62cf29f2e9867a",
   "outputs": [],
   "execution_count": 600
  },
  {
   "metadata": {
    "ExecuteTime": {
     "end_time": "2025-05-20T21:09:23.880353Z",
     "start_time": "2025-05-20T21:09:23.864787Z"
    }
   },
   "cell_type": "code",
   "source": [
    "# Создам представление\n",
    "def create_view():\n",
    "    drop_sql = \"\"\"DROP VIEW IF EXISTS vw_patients\"\"\"\n",
    "    create_sql = \"\"\"\n",
    "    CREATE VIEW vw_patients AS\n",
    "    SELECT dataset.id,\n",
    "            dataset.Name,\n",
    "            dataset.Age,\n",
    "            genders.id AS GenderID,\n",
    "            blood_types.id AS BloodTypeID,\n",
    "            medical_conditions.id AS MedicalConditionID,\n",
    "            dataset.DateOfAdmission,\n",
    "            doctors.id AS DoctorID,\n",
    "            hospitals.id AS HospitalID,\n",
    "            insurance_providers.id AS InsuranceProviderID,\n",
    "            dataset.BillingAmount,\n",
    "            dataset.RoomNumber,\n",
    "            admission_types.id AS AdmissionTypeID,\n",
    "            dataset.DischargeDate,\n",
    "            medications.id AS MedicationID,\n",
    "            test_results.id,\n",
    "            dataset.LengthOfStay\n",
    "    FROM dataset\n",
    "    JOIN genders ON genders.Gender = dataset.Gender\n",
    "    JOIN blood_types ON blood_types.BloodType = dataset.BloodType\n",
    "    JOIN medical_conditions ON medical_conditions.MedicalCondition = dataset.MedicalCondition\n",
    "    JOIN doctors ON doctors.Doctor = dataset.Doctor\n",
    "    JOIN hospitals ON hospitals.Hospital = dataset.Hospital\n",
    "    JOIN insurance_providers ON insurance_providers.InsuranceProvider = dataset.InsuranceProvider\n",
    "    JOIN admission_types ON admission_types.AdmissionType = dataset.AdmissionType\n",
    "    JOIN medications ON medications.Medication = dataset.Medication\n",
    "    JOIN test_results ON test_results.TestResults = dataset.TestResults;\n",
    "    \"\"\"\n",
    "\n",
    "    with engine.connect() as connection:\n",
    "        try:\n",
    "            connection.execute(text(drop_sql))\n",
    "            connection.execute(text(create_sql))\n",
    "        except Exception as e:\n",
    "            raise (f'Ошибка создания представления: {e}')\n"
   ],
   "id": "d3a64f9cfff6dc13",
   "outputs": [],
   "execution_count": 601
  },
  {
   "metadata": {
    "ExecuteTime": {
     "end_time": "2025-05-20T21:09:23.911829Z",
     "start_time": "2025-05-20T21:09:23.897082Z"
    }
   },
   "cell_type": "code",
   "source": [
    "def get_docs():\n",
    "    # Лист врачей\n",
    "    with Session() as session:\n",
    "        docs = [doc.Doctor for doc in session.query(Doctor).all()]\n",
    "    return docs"
   ],
   "id": "7d8918390a09c433",
   "outputs": [],
   "execution_count": 602
  },
  {
   "metadata": {
    "ExecuteTime": {
     "end_time": "2025-05-20T21:09:23.942457Z",
     "start_time": "2025-05-20T21:09:23.927753Z"
    }
   },
   "cell_type": "code",
   "source": [
    "def get_doctor_patients(docs : list):\n",
    "    with Session() as session:\n",
    "        doctor_patients = []\n",
    "        for doc in docs:\n",
    "            docs_pat_list = [p.Name for p in session.query(DataSet).filter(DataSet.Doctor == doc).all()]\n",
    "            doctor_patients.append({'doc_name':doc,\n",
    "                                    'patiens': docs_pat_list})"
   ],
   "id": "84ec215eef5d1a1b",
   "outputs": [],
   "execution_count": 603
  },
  {
   "metadata": {
    "ExecuteTime": {
     "end_time": "2025-05-20T21:09:23.974363Z",
     "start_time": "2025-05-20T21:09:23.959330Z"
    }
   },
   "cell_type": "code",
   "source": [
    "def get_hospitals():\n",
    "    # Лист клиник\n",
    "    with Session() as session:\n",
    "        return [h.Hospital for h in session.query(Hospital).all()]\n"
   ],
   "id": "4f03497f3920877f",
   "outputs": [],
   "execution_count": 604
  },
  {
   "metadata": {
    "ExecuteTime": {
     "end_time": "2025-05-20T21:09:24.005598Z",
     "start_time": "2025-05-20T21:09:23.990950Z"
    }
   },
   "cell_type": "code",
   "source": [
    "def get_hospital_patients(hospitals : list):\n",
    "    with Session() as session:\n",
    "        for hosp in hospitals:\n",
    "            hospital_patients = [{'hospital': hosp,\n",
    "                              'patient': h.Name} for h in session.query(DataSet).filter(DataSet.Hospital == hosp).all()]\n",
    "    return hospital_patients"
   ],
   "id": "54c8a7aee2930b85",
   "outputs": [],
   "execution_count": 605
  },
  {
   "metadata": {
    "ExecuteTime": {
     "end_time": "2025-05-20T21:09:25.996349Z",
     "start_time": "2025-05-20T21:09:24.021868Z"
    }
   },
   "cell_type": "code",
   "source": [
    "    try:\n",
    "        if not os.path.exists(dataset_path):\n",
    "            # Загрузка файла датасета из kaggle если он не загружен\n",
    "            load_kaggle_data_set(kaggle_data_set)\n",
    "        # Загрузка файла в датафрейм\n",
    "        # df = load_data_csv(dataset_path)\n",
    "\n",
    "        # Информация о датафрейме (датасете)\n",
    "        # df.info()\n",
    "\n",
    "        # Отсутствующие значения в столбцах датафрейма. Можно посмотреть и в информации, но так более наглядно.\n",
    "        # print(separator,\n",
    "        #       'Отсутствующие значения:\\n',\n",
    "        #       df.isna().sum())\n",
    "\n",
    "        # print(separator,\n",
    "        #       'Количество дублирующихся значений: ',\n",
    "        #       df.duplicated().sum())\n",
    "\n",
    "        # Переименовать столбцы для дальнейшей работы\n",
    "        df.rename(columns={'Blood Type'         : 'BloodType',\n",
    "                           'Medical Condition'  : 'MedicalCondition',\n",
    "                           'Date of Admission'  : 'DateOfAdmission',\n",
    "                           'Insurance Provider' : 'InsuranceProvider',\n",
    "                           'Billing Amount'     : 'BillingAmount',\n",
    "                           'Room Number'        : 'RoomNumber',\n",
    "                           'Admission Type'     : 'AdmissionType',\n",
    "                           'Discharge Date'     : 'DischargeDate',\n",
    "                           'Test Results'       : 'TestResults',\n",
    "                           'Length of Stay'     : 'LengthOfStay'\n",
    "                           },\n",
    "                  inplace=True\n",
    "        )\n",
    "\n",
    "        # df.info()           # Информация о датафрейме (датасете)\n",
    "        db_cerate()         # Создать БД, со всеми таблицами (таблицы пустые)\n",
    "        fill_db_tabes(df)   # Заполнить таблицы в БД соответствующими данными из датасета (датафрейма)\n",
    "        create_view()       # Создать представление\n",
    "\n",
    "        # docs = get_docs()\n",
    "        # get_doctor_patients(docs)\n",
    "        # print(doctor_patients)\n",
    "\n",
    "        hosps = get_hospitals()\n",
    "        h_p = get_hospital_patients(hosps)\n",
    "        h_p_df = pd.DataFrame.from_records(h_p)\n",
    "        print(h_p_df)\n",
    "\n",
    "        # Вывести графи поциентов по клиникам\n",
    "\n",
    "\n",
    "    except Exception as e:\n",
    "        print(f'При выполнении произошла ошибка: {e}')\n",
    "\n"
   ],
   "id": "80b1b6c57af08d2d",
   "outputs": [
    {
     "name": "stdout",
     "output_type": "stream",
     "text": [
      "                               hospital              patient\n",
      "0      Loyola University Medical Center      Jasmine Aguilar\n",
      "1      Loyola University Medical Center   Ms. Natalie Gamble\n",
      "2      Loyola University Medical Center         Luke Burgess\n",
      "3      Loyola University Medical Center       Daniel Schmidt\n",
      "4      Loyola University Medical Center        Timothy Burns\n",
      "...                                 ...                  ...\n",
      "13605  Loyola University Medical Center         George Baker\n",
      "13606  Loyola University Medical Center  Gregory Johnson Dds\n",
      "13607  Loyola University Medical Center        Brittney York\n",
      "13608  Loyola University Medical Center         Gloria Bowen\n",
      "13609  Loyola University Medical Center         James Garcia\n",
      "\n",
      "[13610 rows x 2 columns]\n"
     ]
    }
   ],
   "execution_count": 606
  }
 ],
 "metadata": {
  "kernelspec": {
   "display_name": "Python 3",
   "language": "python",
   "name": "python3"
  },
  "language_info": {
   "codemirror_mode": {
    "name": "ipython",
    "version": 2
   },
   "file_extension": ".py",
   "mimetype": "text/x-python",
   "name": "python",
   "nbconvert_exporter": "python",
   "pygments_lexer": "ipython2",
   "version": "2.7.6"
  }
 },
 "nbformat": 4,
 "nbformat_minor": 5
}
