{
 "cells": [
  {
   "cell_type": "code",
   "id": "initial_id",
   "metadata": {
    "collapsed": true,
    "ExecuteTime": {
     "end_time": "2025-05-19T21:34:46.571363Z",
     "start_time": "2025-05-19T21:34:46.565748Z"
    }
   },
   "source": [
    "import os\n",
    "import pandas as pd\n",
    "from kaggle.api.kaggle_api_extended import KaggleApi\n",
    "from sqlalchemy.orm import declarative_base, sessionmaker\n",
    "from sqlalchemy import Column, Integer, String, Date, Float, create_engine, inspect, text"
   ],
   "outputs": [],
   "execution_count": 25
  },
  {
   "metadata": {
    "ExecuteTime": {
     "end_time": "2025-05-19T21:34:46.587542Z",
     "start_time": "2025-05-19T21:34:46.575847Z"
    }
   },
   "cell_type": "code",
   "source": [
    "root_dir = os.getcwd()\n",
    "db_dir = 'database'\n",
    "db_name = 'dataset.db'\n",
    "db_path = os.path.join(root_dir, db_dir, db_name)\n",
    "db_url = f'sqlite:///{db_path}'\n",
    "\n",
    "kaggle_data_set = 'eduardolicea/healthcare-dataset'\n",
    "\n",
    "dataset_dir = 'dataset'\n",
    "dataset_name = 'modified_healthcare_dataset.csv'\n",
    "dataset_path = os.path.join(root_dir, dataset_dir, dataset_name)\n",
    "\n",
    "separator = f\"\\n{'-'*100}\\n\""
   ],
   "id": "c65d789091afb103",
   "outputs": [],
   "execution_count": 26
  },
  {
   "metadata": {
    "ExecuteTime": {
     "end_time": "2025-05-19T21:34:46.618864Z",
     "start_time": "2025-05-19T21:34:46.604361Z"
    }
   },
   "cell_type": "code",
   "source": [
    "Base = declarative_base()\n",
    "\n",
    "class Gender(Base):\n",
    "    __tablename__ = 'genders'\n",
    "    id = Column(Integer, primary_key=True, autoincrement=True)\n",
    "    Gender = Column(String)\n",
    "\n",
    "class BloodType(Base):\n",
    "    __tablename__ = 'blood_types'\n",
    "    id = Column(Integer, primary_key=True, autoincrement=True)\n",
    "    BloodType = Column(String)\n",
    "\n",
    "class MedicalCondition(Base):\n",
    "    __tablename__ = 'medical_conditions'\n",
    "    id = Column(Integer, primary_key=True, autoincrement=True)\n",
    "    MedicalCondition = Column(String)\n",
    "\n",
    "class Doctor(Base):\n",
    "    __tablename__ = 'doctors'\n",
    "    id = Column(Integer, primary_key=True, autoincrement=True)\n",
    "    Doctor = Column(String, unique=True)\n",
    "\n",
    "class Hospital(Base):\n",
    "    __tablename__ = 'hospitals'\n",
    "    id = Column(Integer, primary_key=True, autoincrement=True)\n",
    "    Hospital = Column(String)\n",
    "\n",
    "class InsuranceProvider(Base):\n",
    "    __tablename__ = 'insurance_providers'\n",
    "    id = Column(Integer, primary_key=True, autoincrement=True)\n",
    "    InsuranceProvider = Column(String)\n",
    "\n",
    "class AdmissionType(Base):\n",
    "    __tablename__ = 'admission_types'\n",
    "    id = Column(Integer, primary_key=True, autoincrement=True)\n",
    "    AdmissionType = Column(String)\n",
    "\n",
    "class Medication(Base):\n",
    "    __tablename__ = 'medications'\n",
    "    id = Column(Integer, primary_key=True, autoincrement=True)\n",
    "    Medication = Column(String)\n",
    "\n",
    "class TestResults(Base):\n",
    "    __tablename__ = 'test_results'\n",
    "    id = Column(Integer, primary_key=True, autoincrement=True)\n",
    "    TestResults = Column(String)\n",
    "\n",
    "\n",
    "class Patient(Base):\n",
    "    __tablename__ = 'patients'\n",
    "    id = Column(Integer, primary_key=True)\n",
    "    Name = Column(String)\n",
    "    Age = Column(Integer)\n",
    "    DateOfAdmission = Column(Date)\n",
    "    BillingAmount = Column(Float)\n",
    "    RoomNumber = Column(Integer)\n",
    "    DischargeDate = Column(Date)\n",
    "    LengthOfStay = Column(Integer)\n",
    "\n",
    "class DataSet(Base):\n",
    "    __tablename__ = 'dataset'\n",
    "    id = Column(Integer, primary_key=True, autoincrement=True)\n",
    "    Name = Column(String)\n",
    "    Age = Column(Integer)\n",
    "    Gender = Column(String)\n",
    "    BloodType = Column(String)\n",
    "    MedicalCondition = Column(String)\n",
    "    DateOfAdmission = Column(Date)\n",
    "    Doctor = Column(String)\n",
    "    Hospital = Column(String)\n",
    "    InsuranceProvider = Column(String)\n",
    "    BillingAmount = Column(Float)\n",
    "    RoomNumber = Column(Integer)\n",
    "    AdmissionType = Column(String)\n",
    "    DischargeDate = Column(Date)\n",
    "    Medication = Column(String)\n",
    "    TestResults = Column(String)\n",
    "    LengthOfStay = Column(Integer)\n"
   ],
   "id": "b69bca4f5f127d1c",
   "outputs": [],
   "execution_count": 27
  },
  {
   "metadata": {
    "ExecuteTime": {
     "end_time": "2025-05-19T21:34:46.664566Z",
     "start_time": "2025-05-19T21:34:46.649222Z"
    }
   },
   "cell_type": "code",
   "source": [
    "def load_data_csv(file_path):\n",
    "    \"\"\"\n",
    "    Загрузка данных из CSV файла.\n",
    "    :param file_path: Путь к CSV файлу.\n",
    "    :return: DataFrame с загруженными данными.\n",
    "    \"\"\"\n",
    "    try:\n",
    "        return pd.read_csv(file_path)\n",
    "    except Exception as e:\n",
    "        raise Exception(e)\n"
   ],
   "id": "6a22848aee4f0eb2",
   "outputs": [],
   "execution_count": 28
  },
  {
   "metadata": {
    "ExecuteTime": {
     "end_time": "2025-05-19T21:34:46.696221Z",
     "start_time": "2025-05-19T21:34:46.681061Z"
    }
   },
   "cell_type": "code",
   "source": [
    "def load_kaggle_data_set(dataset):\n",
    "    \"\"\"\n",
    "    Загрузка датасета из kaggle.\n",
    "\n",
    "    Важно: Необходимо предварительно получить API Token.\n",
    "    Переместите файл kaggle.json в папку ~/.kaggle/ (для Linux и macOS)\n",
    "    или в C:/Users/<Ваше_имя_пользователя>/.kaggle/ (для Windows).\n",
    "    Если папка .kaggle не существует, создайте ее.\n",
    "    :param dataset:\n",
    "    :return:\n",
    "    \"\"\"\n",
    "\n",
    "    api = KaggleApi()\n",
    "    api.authenticate()\n",
    "    api.dataset_download_files(dataset=dataset,\n",
    "                               path='./dataset',\n",
    "                               force=True,\n",
    "                               unzip=True)              # Загрузка и распаковка"
   ],
   "id": "bcfda1e03dc515f8",
   "outputs": [],
   "execution_count": 29
  },
  {
   "metadata": {
    "ExecuteTime": {
     "end_time": "2025-05-19T21:34:46.726945Z",
     "start_time": "2025-05-19T21:34:46.712819Z"
    }
   },
   "cell_type": "code",
   "source": [
    "engine = create_engine(db_url, echo=False)\n",
    "Session = sessionmaker(bind=engine)"
   ],
   "id": "5e26a5d68a70d24b",
   "outputs": [],
   "execution_count": 30
  },
  {
   "metadata": {
    "ExecuteTime": {
     "end_time": "2025-05-19T21:34:46.758578Z",
     "start_time": "2025-05-19T21:34:46.742843Z"
    }
   },
   "cell_type": "code",
   "source": [
    "def db_cerate():\n",
    "    try:\n",
    "        with Session()  as session:\n",
    "            Base.metadata.create_all(engine)                # Создать базу данных (если она еще не существует)\n",
    "            session.commit()\n",
    "    except Exception as e:\n",
    "        raise (f'Ошибка создания базы данных: {e}')"
   ],
   "id": "27c23d28e6f1934b",
   "outputs": [],
   "execution_count": 31
  },
  {
   "metadata": {
    "ExecuteTime": {
     "end_time": "2025-05-19T21:34:46.790595Z",
     "start_time": "2025-05-19T21:34:46.774738Z"
    }
   },
   "cell_type": "code",
   "source": [
    "def add_all_from_dataset_to_table(df: pd.DataFrame,\n",
    "                                  table_name : str,\n",
    "                                  unique_columns : list = None):\n",
    "    with Session() as session:\n",
    "        truncate_table = text(f'DELETE FROM {table_name}')\n",
    "        session.execute(truncate_table)\n",
    "        session.commit()\n",
    "\n",
    "    inspector = inspect(engine)\n",
    "\n",
    "    columns = [col['name'] for col in inspector.get_columns(table_name)\n",
    "               if col['name']  != 'id']                                                     # Получить список столбцов из таблицы 'patients', исключая id, т.к. он автоинкриментный в таблице\n",
    "    if unique_columns:                                                                      # Если передан лист имен столбцов в которых значения д.б. уникальными\n",
    "        df_filtered = df[columns].drop_duplicates(unique_columns)                           # Фильтр DataFrame, оставляя только те столбцы, которые есть в таблице, и дополнительный фильтр по уникальным\n",
    "    else:\n",
    "        df_filtered = df[columns]                                                           # Фильтр DataFrame, оставляя только те столбцы, которые есть в таблице\n",
    "\n",
    "    df_filtered.to_sql(table_name, con=engine, if_exists='append', index=False)             # Запись DataFrame в таблицу"
   ],
   "id": "cbfcaabc1d4a052a",
   "outputs": [],
   "execution_count": 32
  },
  {
   "metadata": {
    "ExecuteTime": {
     "end_time": "2025-05-19T21:34:46.821192Z",
     "start_time": "2025-05-19T21:34:46.807052Z"
    }
   },
   "cell_type": "code",
   "source": [
    "def fill_db_tabes(df: pd.DataFrame):\n",
    "    add_all_from_dataset_to_table(df, 'genders', ['Gender'])\n",
    "    add_all_from_dataset_to_table(df, 'blood_types', ['BloodType'])\n",
    "    add_all_from_dataset_to_table(df, 'medical_conditions', ['MedicalCondition'])\n",
    "    add_all_from_dataset_to_table(df, 'doctors', ['Doctor'])\n",
    "    add_all_from_dataset_to_table(df, 'hospitals', ['Hospital'])\n",
    "    add_all_from_dataset_to_table(df, 'insurance_providers', ['InsuranceProvider'])\n",
    "    add_all_from_dataset_to_table(df, 'admission_types', ['AdmissionType'])\n",
    "    add_all_from_dataset_to_table(df, 'medications', ['Medication'])\n",
    "    add_all_from_dataset_to_table(df, 'test_results', ['TestResults'])\n",
    "    add_all_from_dataset_to_table(df, 'patients')\n",
    "    add_all_from_dataset_to_table(df, 'dataset')"
   ],
   "id": "4e62cf29f2e9867a",
   "outputs": [],
   "execution_count": 33
  },
  {
   "metadata": {
    "ExecuteTime": {
     "end_time": "2025-05-19T21:34:46.852278Z",
     "start_time": "2025-05-19T21:34:46.837384Z"
    }
   },
   "cell_type": "code",
   "source": [
    "# Создам представление\n",
    "def create_view():\n",
    "    drop_sql = \"\"\"DROP VIEW IF EXISTS vw_patients\"\"\"\n",
    "    create_sql = \"\"\"\n",
    "    CREATE VIEW vw_patients AS\n",
    "    SELECT dataset.id,\n",
    "            dataset.Name,\n",
    "            dataset.Age,\n",
    "            genders.id AS GenderID,\n",
    "            blood_types.id AS BloodTypeID,\n",
    "            medical_conditions.id AS MedicalConditionID,\n",
    "            dataset.DateOfAdmission,\n",
    "            doctors.id AS DoctorID,\n",
    "            hospitals.id AS HospitalID,\n",
    "            insurance_providers.id AS InsuranceProviderID,\n",
    "            dataset.BillingAmount,\n",
    "            dataset.RoomNumber,\n",
    "            admission_types.id AS AdmissionTypeID,\n",
    "            dataset.DischargeDate,\n",
    "            medications.id AS MedicationID,\n",
    "            test_results.id,\n",
    "            dataset.LengthOfStay\n",
    "    FROM dataset\n",
    "    JOIN genders ON genders.Gender = dataset.Gender\n",
    "    JOIN blood_types ON blood_types.BloodType = dataset.BloodType\n",
    "    JOIN medical_conditions ON medical_conditions.MedicalCondition = dataset.MedicalCondition\n",
    "    JOIN doctors ON doctors.Doctor = dataset.Doctor\n",
    "    JOIN hospitals ON hospitals.Hospital = dataset.Hospital\n",
    "    JOIN insurance_providers ON insurance_providers.InsuranceProvider = dataset.InsuranceProvider\n",
    "    JOIN admission_types ON admission_types.AdmissionType = dataset.AdmissionType\n",
    "    JOIN medications ON medications.Medication = dataset.Medication\n",
    "    JOIN test_results ON test_results.TestResults = dataset.TestResults;\n",
    "    \"\"\"\n",
    "\n",
    "    with engine.connect() as connection:\n",
    "        try:\n",
    "            connection.execute(text(drop_sql))\n",
    "            connection.execute(text(create_sql))\n",
    "        except Exception as e:\n",
    "            raise (f'Ошибка создания представления: {e}')\n"
   ],
   "id": "d3a64f9cfff6dc13",
   "outputs": [],
   "execution_count": 34
  },
  {
   "metadata": {
    "ExecuteTime": {
     "end_time": "2025-05-19T21:34:47.860648Z",
     "start_time": "2025-05-19T21:34:46.869212Z"
    }
   },
   "cell_type": "code",
   "source": [
    "    try:\n",
    "        if not os.path.exists(dataset_path):\n",
    "            load_kaggle_data_set(kaggle_data_set)               # Загрузка файла датасета из kaggle если он не загружен\n",
    "        df = load_data_csv(dataset_path)                        # Загрузка файла в датафрейм\n",
    "\n",
    "        df.info()                                           # Информация о датафрейме (датасете)\n",
    "\n",
    "        print(separator,\n",
    "              'Отсутствующие значения:\\n',\n",
    "              df.isna().sum())                              # Отсутствующие значения в столбцах датафрейма. Можно посмотреть и в информации, но так более наглядно.\n",
    "\n",
    "        print(separator,\n",
    "              'Количество дублирующихся значений: ',\n",
    "              df.duplicated().sum())\n",
    "\n",
    "        df.rename(columns={'Blood Type'         : 'BloodType',\n",
    "                           'Medical Condition'  : 'MedicalCondition',\n",
    "                           'Date of Admission'  : 'DateOfAdmission',\n",
    "                           'Insurance Provider' : 'InsuranceProvider',\n",
    "                           'Billing Amount'     : 'BillingAmount',\n",
    "                           'Room Number'        : 'RoomNumber',\n",
    "                           'Admission Type'     : 'AdmissionType',\n",
    "                           'Discharge Date'     : 'DischargeDate',\n",
    "                           'Test Results'       : 'TestResults',\n",
    "                           'Length of Stay'     : 'LengthOfStay'\n",
    "                           },\n",
    "                  inplace=True\n",
    "        )                                                                   # Переименовать столбцы лоя дальнейшей работы\n",
    "\n",
    "        df.info()                                                           # Информация о датафрейме (датасете)\n",
    "        db_cerate()                                                         # Создать БД, со всеми таблицами (таблицы пустые)\n",
    "        fill_db_tabes(df)                                                   # Заполнить таблицы в БД соответствующими данными из датасета (датафрейма)\n",
    "        create_view()\n",
    "\n",
    "    except Exception as e:\n",
    "        print(f'При выполнении произошла ошибка: {e}')\n",
    "\n"
   ],
   "id": "80b1b6c57af08d2d",
   "outputs": [
    {
     "name": "stdout",
     "output_type": "stream",
     "text": [
      "<class 'pandas.core.frame.DataFrame'>\n",
      "RangeIndex: 55500 entries, 0 to 55499\n",
      "Data columns (total 16 columns):\n",
      " #   Column              Non-Null Count  Dtype  \n",
      "---  ------              --------------  -----  \n",
      " 0   Name                55500 non-null  object \n",
      " 1   Age                 55500 non-null  int64  \n",
      " 2   Gender              55500 non-null  object \n",
      " 3   Blood Type          55500 non-null  object \n",
      " 4   Medical Condition   55500 non-null  object \n",
      " 5   Date of Admission   55500 non-null  object \n",
      " 6   Doctor              55500 non-null  object \n",
      " 7   Hospital            55500 non-null  object \n",
      " 8   Insurance Provider  55500 non-null  object \n",
      " 9   Billing Amount      55500 non-null  float64\n",
      " 10  Room Number         55500 non-null  int64  \n",
      " 11  Admission Type      55500 non-null  object \n",
      " 12  Discharge Date      55500 non-null  object \n",
      " 13  Medication          55500 non-null  object \n",
      " 14  Test Results        55500 non-null  object \n",
      " 15  Length of Stay      55500 non-null  int64  \n",
      "dtypes: float64(1), int64(3), object(12)\n",
      "memory usage: 6.8+ MB\n",
      "\n",
      "----------------------------------------------------------------------------------------------------\n",
      " Отсутствующие значения:\n",
      " Name                  0\n",
      "Age                   0\n",
      "Gender                0\n",
      "Blood Type            0\n",
      "Medical Condition     0\n",
      "Date of Admission     0\n",
      "Doctor                0\n",
      "Hospital              0\n",
      "Insurance Provider    0\n",
      "Billing Amount        0\n",
      "Room Number           0\n",
      "Admission Type        0\n",
      "Discharge Date        0\n",
      "Medication            0\n",
      "Test Results          0\n",
      "Length of Stay        0\n",
      "dtype: int64\n",
      "\n",
      "----------------------------------------------------------------------------------------------------\n",
      " Количество дублирующихся значений:  0\n",
      "<class 'pandas.core.frame.DataFrame'>\n",
      "RangeIndex: 55500 entries, 0 to 55499\n",
      "Data columns (total 16 columns):\n",
      " #   Column             Non-Null Count  Dtype  \n",
      "---  ------             --------------  -----  \n",
      " 0   Name               55500 non-null  object \n",
      " 1   Age                55500 non-null  int64  \n",
      " 2   Gender             55500 non-null  object \n",
      " 3   BloodType          55500 non-null  object \n",
      " 4   MedicalCondition   55500 non-null  object \n",
      " 5   DateOfAdmission    55500 non-null  object \n",
      " 6   Doctor             55500 non-null  object \n",
      " 7   Hospital           55500 non-null  object \n",
      " 8   InsuranceProvider  55500 non-null  object \n",
      " 9   BillingAmount      55500 non-null  float64\n",
      " 10  RoomNumber         55500 non-null  int64  \n",
      " 11  AdmissionType      55500 non-null  object \n",
      " 12  DischargeDate      55500 non-null  object \n",
      " 13  Medication         55500 non-null  object \n",
      " 14  TestResults        55500 non-null  object \n",
      " 15  LengthOfStay       55500 non-null  int64  \n",
      "dtypes: float64(1), int64(3), object(12)\n",
      "memory usage: 6.8+ MB\n"
     ]
    }
   ],
   "execution_count": 35
  }
 ],
 "metadata": {
  "kernelspec": {
   "display_name": "Python 3",
   "language": "python",
   "name": "python3"
  },
  "language_info": {
   "codemirror_mode": {
    "name": "ipython",
    "version": 2
   },
   "file_extension": ".py",
   "mimetype": "text/x-python",
   "name": "python",
   "nbconvert_exporter": "python",
   "pygments_lexer": "ipython2",
   "version": "2.7.6"
  }
 },
 "nbformat": 4,
 "nbformat_minor": 5
}
