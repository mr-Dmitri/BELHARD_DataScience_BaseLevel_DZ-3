{
 "cells": [
  {
   "cell_type": "code",
   "execution_count": null,
   "id": "initial_id",
   "metadata": {
    "collapsed": true
   },
   "outputs": [],
   "source": "import os\n"
  },
  {
   "metadata": {},
   "cell_type": "code",
   "outputs": [],
   "execution_count": null,
   "source": [
    "root_dir = os.path.abspath(os.path.dirname(__file__))\n",
    "db_dir = 'database'\n",
    "db_name = 'dataset.db'\n",
    "db_path = os.path.join(root_dir, db_dir, db_name)\n",
    "db_url = f'sqlite:///{db_path}'\n",
    "\n",
    "dataset_dir = 'dataset'\n",
    "dataset_name = 'modified_healthcare_dataset.csv'\n",
    "dataset_path = os.path.join(root_dir, dataset_dir, dataset_name)"
   ],
   "id": "c65d789091afb103"
  }
 ],
 "metadata": {
  "kernelspec": {
   "display_name": "Python 3",
   "language": "python",
   "name": "python3"
  },
  "language_info": {
   "codemirror_mode": {
    "name": "ipython",
    "version": 2
   },
   "file_extension": ".py",
   "mimetype": "text/x-python",
   "name": "python",
   "nbconvert_exporter": "python",
   "pygments_lexer": "ipython2",
   "version": "2.7.6"
  }
 },
 "nbformat": 4,
 "nbformat_minor": 5
}
